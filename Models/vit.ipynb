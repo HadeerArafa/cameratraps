{
  "nbformat": 4,
  "nbformat_minor": 0,
  "metadata": {
    "colab": {
      "provenance": [],
      "collapsed_sections": []
    },
    "kernelspec": {
      "name": "python3",
      "display_name": "Python 3"
    },
    "language_info": {
      "name": "python"
    },
    "accelerator": "GPU"
  },
  "cells": [
    {
      "cell_type": "code",
      "execution_count": null,
      "metadata": {
        "id": "jXD9JmVQyCX-",
        "colab": {
          "base_uri": "https://localhost:8080/"
        },
        "outputId": "74ee6e8b-86cd-4b7c-aafe-cc7d95319a36"
      },
      "outputs": [
        {
          "output_type": "stream",
          "name": "stdout",
          "text": [
            "2.8.2\n",
            "The following GPU devices are available: /device:GPU:0\n"
          ]
        }
      ],
      "source": [
        "# For running inference on the TF-Hub module.\n",
        "import pandas as pd\n",
        "import numpy as np\n",
        "\n",
        "import matplotlib\n",
        "import matplotlib.pyplot as plt\n",
        "import seaborn as sns\n",
        "import cv2\n",
        "import tensorflow as tf\n",
        "from tensorflow.keras import layers\n",
        "from tensorflow.keras.layers import Input, Add, Dense, Activation, ZeroPadding2D, BatchNormalization, Flatten, Conv2D, MaxPool2D,AveragePooling2D, MaxPooling2D, GlobalMaxPooling2D , GlobalAveragePooling2D\n",
        "from tensorflow.keras.models import Model, load_model\n",
        "from keras.utils.data_utils import get_file\n",
        "import os\n",
        "\n",
        "# For drawing onto the image.\n",
        "from PIL import Image\n",
        "from PIL import ImageColor\n",
        "from PIL import ImageDraw\n",
        "from PIL import ImageOps\n",
        "\n",
        "# For measuring the inference time.\n",
        "import time\n",
        "import os\n",
        "# Print Tensorflow version\n",
        "print(tf.__version__)\n",
        "\n",
        "# Check available GPU devices.\n",
        "print(\"The following GPU devices are available: %s\" % tf.test.gpu_device_name())"
      ]
    },
    {
      "cell_type": "code",
      "source": [
        "from google.colab import drive\n",
        "drive.mount('/content/drive')"
      ],
      "metadata": {
        "id": "oHJM7IQ-yJcF",
        "colab": {
          "base_uri": "https://localhost:8080/"
        },
        "outputId": "bfe650cb-d5c7-422d-a12e-4df21a187dc1"
      },
      "execution_count": null,
      "outputs": [
        {
          "output_type": "stream",
          "name": "stdout",
          "text": [
            "Drive already mounted at /content/drive; to attempt to forcibly remount, call drive.mount(\"/content/drive\", force_remount=True).\n"
          ]
        }
      ]
    },
    {
      "cell_type": "code",
      "source": [
        "train_directory = '/content/drive/MyDrive/ieee-final-round/train_filtered'  # change this line only \n",
        "\n",
        "train_data = tf.keras.preprocessing.image_dataset_from_directory(\n",
        "    directory= train_directory,\n",
        "    labels='inferred',\n",
        "    label_mode='int',\n",
        "    class_names=None,\n",
        "    color_mode='rgb',\n",
        "    batch_size=32,\n",
        "    image_size=(256,256), # change this to 256\n",
        "    shuffle=True,\n",
        "    seed=60,\n",
        "    validation_split=0.2,\n",
        "    subset='training',\n",
        "    interpolation='bilinear',\n",
        "    follow_links=False,\n",
        ")\n",
        "\n",
        "val_data = tf.keras.preprocessing.image_dataset_from_directory(\n",
        "    directory=train_directory,\n",
        "    labels='inferred',\n",
        "    label_mode='int',\n",
        "    class_names=None,\n",
        "    color_mode='rgb',\n",
        "    batch_size=32,\n",
        "    image_size=(256,256),\n",
        "    shuffle=True,\n",
        "    seed=60,\n",
        "    validation_split=0.2,\n",
        "    subset='validation',\n",
        "    interpolation='bilinear',\n",
        "    follow_links=False,\n",
        "\n",
        ")\n"
      ],
      "metadata": {
        "id": "FxS3a5cPyJea",
        "colab": {
          "base_uri": "https://localhost:8080/"
        },
        "outputId": "f18cec7d-4c7d-4b7c-a128-55cf2f717db4"
      },
      "execution_count": null,
      "outputs": [
        {
          "output_type": "stream",
          "name": "stdout",
          "text": [
            "Found 10933 files belonging to 8 classes.\n",
            "Using 8747 files for training.\n",
            "Found 10933 files belonging to 8 classes.\n",
            "Using 2186 files for validation.\n"
          ]
        }
      ]
    },
    {
      "cell_type": "code",
      "source": [
        "def normalize(image,label):\n",
        "    image = image/255.\n",
        "    return image,label"
      ],
      "metadata": {
        "id": "zT4twTnkyJgn"
      },
      "execution_count": null,
      "outputs": []
    },
    {
      "cell_type": "code",
      "source": [
        "train_data = train_data.map(normalize)\n",
        "val_data = val_data.map(normalize)"
      ],
      "metadata": {
        "id": "TDadfEyKyJjF"
      },
      "execution_count": null,
      "outputs": []
    },
    {
      "cell_type": "code",
      "source": [
        "pip install vit-keras"
      ],
      "metadata": {
        "id": "EGNta399yJlN",
        "colab": {
          "base_uri": "https://localhost:8080/"
        },
        "outputId": "6835317e-ae83-4aa2-8cd2-57ce5e9388ef"
      },
      "execution_count": null,
      "outputs": [
        {
          "output_type": "stream",
          "name": "stdout",
          "text": [
            "Looking in indexes: https://pypi.org/simple, https://us-python.pkg.dev/colab-wheels/public/simple/\n",
            "Requirement already satisfied: vit-keras in /usr/local/lib/python3.7/dist-packages (0.1.0)\n",
            "Requirement already satisfied: scipy in /usr/local/lib/python3.7/dist-packages (from vit-keras) (1.7.3)\n",
            "Requirement already satisfied: validators in /usr/local/lib/python3.7/dist-packages (from vit-keras) (0.20.0)\n",
            "Requirement already satisfied: numpy<1.23.0,>=1.16.5 in /usr/local/lib/python3.7/dist-packages (from scipy->vit-keras) (1.21.6)\n",
            "Requirement already satisfied: decorator>=3.4.0 in /usr/local/lib/python3.7/dist-packages (from validators->vit-keras) (4.4.2)\n"
          ]
        }
      ]
    },
    {
      "cell_type": "code",
      "source": [
        "pip install -U tensorflow-addons"
      ],
      "metadata": {
        "colab": {
          "base_uri": "https://localhost:8080/"
        },
        "id": "7DbPFi6SUTpV",
        "outputId": "50100830-1ac2-4786-b0b3-ed92a7309d21"
      },
      "execution_count": null,
      "outputs": [
        {
          "output_type": "stream",
          "name": "stdout",
          "text": [
            "Looking in indexes: https://pypi.org/simple, https://us-python.pkg.dev/colab-wheels/public/simple/\n",
            "Requirement already satisfied: tensorflow-addons in /usr/local/lib/python3.7/dist-packages (0.17.1)\n",
            "Requirement already satisfied: typeguard>=2.7 in /usr/local/lib/python3.7/dist-packages (from tensorflow-addons) (2.7.1)\n",
            "Requirement already satisfied: packaging in /usr/local/lib/python3.7/dist-packages (from tensorflow-addons) (21.3)\n",
            "Requirement already satisfied: pyparsing!=3.0.5,>=2.0.2 in /usr/local/lib/python3.7/dist-packages (from packaging->tensorflow-addons) (3.0.9)\n"
          ]
        }
      ]
    },
    {
      "cell_type": "code",
      "source": [
        "import tensorflow_addons as tfa\n",
        "from vit_keras import vit, utils"
      ],
      "metadata": {
        "id": "oqUks6S5yJoz"
      },
      "execution_count": null,
      "outputs": []
    },
    {
      "cell_type": "code",
      "source": [
        "image_size = (256 , 256)\n",
        "classes = 8\n",
        "vit_model = vit.vit_b16(\n",
        "    image_size=image_size,\n",
        "    activation='relu',\n",
        "    pretrained=True,\n",
        "    include_top=False,\n",
        "    pretrained_top=False\n",
        ")"
      ],
      "metadata": {
        "id": "c07_Q-WEyUU3",
        "colab": {
          "base_uri": "https://localhost:8080/"
        },
        "outputId": "f1b47107-8628-4af6-e06a-719f732780fb"
      },
      "execution_count": null,
      "outputs": [
        {
          "output_type": "stream",
          "name": "stderr",
          "text": [
            "/usr/local/lib/python3.7/dist-packages/vit_keras/utils.py:83: UserWarning: Resizing position embeddings from 24, 24 to 16, 16\n",
            "  UserWarning,\n"
          ]
        }
      ]
    },
    {
      "cell_type": "code",
      "source": [
        "for layer in vit_model.layers:\n",
        "  layer.trainable = False"
      ],
      "metadata": {
        "id": "-j-wBHTAyUXM"
      },
      "execution_count": null,
      "outputs": []
    },
    {
      "cell_type": "code",
      "source": [
        "last_layer = vit_model.get_layer(vit_model.layers[-1].name)\n",
        "print('last layer output shape: ', last_layer.output_shape)\n",
        "last_output = last_layer.output\n",
        "print(last_output)"
      ],
      "metadata": {
        "id": "hjFJ69bQyUZv",
        "colab": {
          "base_uri": "https://localhost:8080/"
        },
        "outputId": "25a12989-89e9-4335-83ed-0b81dabdd94c"
      },
      "execution_count": null,
      "outputs": [
        {
          "output_type": "stream",
          "name": "stdout",
          "text": [
            "last layer output shape:  (None, 768)\n",
            "KerasTensor(type_spec=TensorSpec(shape=(None, 768), dtype=tf.float32, name=None), name='ExtractToken/strided_slice:0', description=\"created by layer 'ExtractToken'\")\n"
          ]
        }
      ]
    },
    {
      "cell_type": "code",
      "source": [
        "x = Flatten()(last_output) \n",
        "x = tf.keras.layers.Dropout(0.4)(x)\n",
        "\n",
        "x = Dense(128, activation='relu')(x)\n",
        "x = Dense(64, activation='relu')(x)\n",
        "x = tf.keras.layers.Dropout(0.2)(x)\n",
        "x = Dense(16, activation='relu')(x)\n",
        "x = Dense(8, activation='softmax')(x)\n",
        "\n",
        "vit_model = Model(vit_model.input, x)"
      ],
      "metadata": {
        "id": "dPUTOn6AyUdY"
      },
      "execution_count": null,
      "outputs": []
    },
    {
      "cell_type": "code",
      "source": [
        "vit_model.compile(optimizer='adam',\n",
        "            loss = 'sparse_categorical_crossentropy', \n",
        "            metrics =  'acc')"
      ],
      "metadata": {
        "id": "7K8UkAT3yqet"
      },
      "execution_count": null,
      "outputs": []
    },
    {
      "cell_type": "code",
      "source": [
        "EPOCHS = 13\n",
        "BATCH_SIZE = 32\n",
        "\n",
        "history = vit_model.fit(train_data ,                      \n",
        "                             validation_data = val_data, \n",
        "                             epochs=EPOCHS,\n",
        "                              batch_size = BATCH_SIZE\n",
        "                              )"
      ],
      "metadata": {
        "colab": {
          "base_uri": "https://localhost:8080/"
        },
        "id": "g851vPAi6BF0",
        "outputId": "7aa1edd0-7dc2-4bec-ed1b-1dfde4c00571"
      },
      "execution_count": null,
      "outputs": [
        {
          "output_type": "stream",
          "name": "stdout",
          "text": [
            "Epoch 1/13\n",
            "274/274 [==============================] - 230s 836ms/step - loss: 1.5274 - acc: 0.4550 - val_loss: 1.1066 - val_acc: 0.6157\n",
            "Epoch 2/13\n",
            "274/274 [==============================] - 225s 821ms/step - loss: 1.1794 - acc: 0.5892 - val_loss: 0.9942 - val_acc: 0.6464\n",
            "Epoch 3/13\n",
            "274/274 [==============================] - 226s 824ms/step - loss: 1.0662 - acc: 0.6259 - val_loss: 0.9517 - val_acc: 0.6565\n",
            "Epoch 4/13\n",
            "274/274 [==============================] - 227s 824ms/step - loss: 1.0200 - acc: 0.6367 - val_loss: 0.8716 - val_acc: 0.6917\n",
            "Epoch 5/13\n",
            "274/274 [==============================] - 226s 822ms/step - loss: 0.9793 - acc: 0.6568 - val_loss: 0.8570 - val_acc: 0.7091\n",
            "Epoch 6/13\n",
            "274/274 [==============================] - 225s 819ms/step - loss: 0.9289 - acc: 0.6694 - val_loss: 0.8305 - val_acc: 0.7155\n",
            "Epoch 7/13\n",
            "274/274 [==============================] - 224s 816ms/step - loss: 0.9249 - acc: 0.6754 - val_loss: 0.8191 - val_acc: 0.7132\n",
            "Epoch 8/13\n",
            "274/274 [==============================] - 225s 819ms/step - loss: 0.8863 - acc: 0.6805 - val_loss: 0.7936 - val_acc: 0.7255\n",
            "Epoch 9/13\n",
            "274/274 [==============================] - 226s 822ms/step - loss: 0.8546 - acc: 0.6953 - val_loss: 0.7704 - val_acc: 0.7351\n",
            "Epoch 10/13\n",
            "274/274 [==============================] - 225s 820ms/step - loss: 0.8463 - acc: 0.6996 - val_loss: 0.7749 - val_acc: 0.7347\n",
            "Epoch 11/13\n",
            "274/274 [==============================] - 224s 817ms/step - loss: 0.8158 - acc: 0.7118 - val_loss: 0.7596 - val_acc: 0.7420\n",
            "Epoch 12/13\n",
            "274/274 [==============================] - 225s 820ms/step - loss: 0.8063 - acc: 0.7074 - val_loss: 0.7458 - val_acc: 0.7415\n",
            "Epoch 13/13\n",
            "274/274 [==============================] - 225s 820ms/step - loss: 0.7824 - acc: 0.7224 - val_loss: 0.7649 - val_acc: 0.7324\n"
          ]
        }
      ]
    },
    {
      "cell_type": "code",
      "source": [
        "EPOCHS = 30\n",
        "BATCH_SIZE = 32\n",
        "\n",
        "history = vit_model.fit(train_data ,                      \n",
        "                             validation_data = val_data, \n",
        "                             epochs=EPOCHS,\n",
        "                              batch_size = BATCH_SIZE\n",
        "                              )"
      ],
      "metadata": {
        "id": "gWfWNLJJyqgr",
        "colab": {
          "base_uri": "https://localhost:8080/"
        },
        "outputId": "4ed3d4f6-1eb7-45d5-b769-8e747a01587e"
      },
      "execution_count": null,
      "outputs": [
        {
          "output_type": "stream",
          "name": "stdout",
          "text": [
            "Epoch 1/30\n",
            "274/274 [==============================] - 1742s 6s/step - loss: 1.2239 - acc: 0.5748 - val_loss: 1.0433 - val_acc: 0.6199\n",
            "Epoch 2/30\n",
            "274/274 [==============================] - 223s 813ms/step - loss: 0.9008 - acc: 0.6863 - val_loss: 0.9978 - val_acc: 0.6523\n",
            "Epoch 3/30\n",
            "274/274 [==============================] - 223s 813ms/step - loss: 0.7780 - acc: 0.7295 - val_loss: 0.9038 - val_acc: 0.6747\n",
            "Epoch 4/30\n",
            "274/274 [==============================] - 225s 818ms/step - loss: 0.6846 - acc: 0.7572 - val_loss: 0.8656 - val_acc: 0.7031\n",
            "Epoch 5/30\n",
            "274/274 [==============================] - 225s 818ms/step - loss: 0.6333 - acc: 0.7756 - val_loss: 0.8000 - val_acc: 0.7260\n",
            "Epoch 6/30\n",
            "274/274 [==============================] - 224s 817ms/step - loss: 0.5874 - acc: 0.7922 - val_loss: 0.8212 - val_acc: 0.7242\n",
            "Epoch 7/30\n",
            "274/274 [==============================] - 225s 817ms/step - loss: 0.5475 - acc: 0.8079 - val_loss: 0.8585 - val_acc: 0.7127\n",
            "Epoch 8/30\n",
            "274/274 [==============================] - 223s 813ms/step - loss: 0.5007 - acc: 0.8251 - val_loss: 0.9127 - val_acc: 0.7205\n",
            "Epoch 9/30\n",
            "274/274 [==============================] - 224s 815ms/step - loss: 0.4840 - acc: 0.8229 - val_loss: 0.8583 - val_acc: 0.7200\n",
            "Epoch 10/30\n",
            "274/274 [==============================] - 224s 817ms/step - loss: 0.4610 - acc: 0.8327 - val_loss: 0.8076 - val_acc: 0.7457\n",
            "Epoch 11/30\n",
            "274/274 [==============================] - 223s 814ms/step - loss: 0.4218 - acc: 0.8570 - val_loss: 0.8086 - val_acc: 0.7425\n",
            "Epoch 12/30\n",
            "274/274 [==============================] - 224s 817ms/step - loss: 0.3900 - acc: 0.8613 - val_loss: 0.8471 - val_acc: 0.7292\n",
            "Epoch 13/30\n",
            "274/274 [==============================] - 224s 814ms/step - loss: 0.3758 - acc: 0.8662 - val_loss: 0.8526 - val_acc: 0.7425\n",
            "Epoch 14/30\n",
            "274/274 [==============================] - 225s 818ms/step - loss: 0.3666 - acc: 0.8649 - val_loss: 0.8367 - val_acc: 0.7557\n",
            "Epoch 15/30\n",
            "274/274 [==============================] - 224s 817ms/step - loss: 0.3521 - acc: 0.8698 - val_loss: 0.8656 - val_acc: 0.7479\n",
            "Epoch 16/30\n",
            "274/274 [==============================] - 224s 816ms/step - loss: 0.3340 - acc: 0.8813 - val_loss: 0.9323 - val_acc: 0.7365\n",
            "Epoch 17/30\n",
            "274/274 [==============================] - 224s 814ms/step - loss: 0.3242 - acc: 0.8828 - val_loss: 0.9183 - val_acc: 0.7434\n",
            "Epoch 18/30\n",
            "274/274 [==============================] - 224s 815ms/step - loss: 0.3146 - acc: 0.8820 - val_loss: 0.9597 - val_acc: 0.7370\n",
            "Epoch 19/30\n",
            "274/274 [==============================] - 224s 817ms/step - loss: 0.2840 - acc: 0.8956 - val_loss: 0.9382 - val_acc: 0.7443\n",
            "Epoch 20/30\n",
            "274/274 [==============================] - 224s 817ms/step - loss: 0.2985 - acc: 0.8914 - val_loss: 0.8723 - val_acc: 0.7511\n",
            "Epoch 21/30\n",
            "274/274 [==============================] - 225s 819ms/step - loss: 0.2810 - acc: 0.8972 - val_loss: 0.9702 - val_acc: 0.7553\n",
            "Epoch 22/30\n",
            "274/274 [==============================] - 224s 817ms/step - loss: 0.2718 - acc: 0.9001 - val_loss: 0.9492 - val_acc: 0.7470\n",
            "Epoch 23/30\n",
            "274/274 [==============================] - 225s 818ms/step - loss: 0.2594 - acc: 0.9050 - val_loss: 0.9206 - val_acc: 0.7617\n",
            "Epoch 24/30\n",
            "274/274 [==============================] - 225s 819ms/step - loss: 0.2556 - acc: 0.9059 - val_loss: 0.9754 - val_acc: 0.7479\n",
            "Epoch 25/30\n",
            "274/274 [==============================] - 225s 819ms/step - loss: 0.2550 - acc: 0.9074 - val_loss: 1.0344 - val_acc: 0.7470\n",
            "Epoch 26/30\n",
            "274/274 [==============================] - 224s 815ms/step - loss: 0.2598 - acc: 0.9037 - val_loss: 0.9590 - val_acc: 0.7548\n",
            "Epoch 27/30\n",
            "274/274 [==============================] - 225s 820ms/step - loss: 0.2506 - acc: 0.9067 - val_loss: 0.9486 - val_acc: 0.7539\n",
            "Epoch 28/30\n",
            "274/274 [==============================] - 225s 818ms/step - loss: 0.2372 - acc: 0.9156 - val_loss: 0.9787 - val_acc: 0.7553\n",
            "Epoch 29/30\n",
            "274/274 [==============================] - 225s 820ms/step - loss: 0.2246 - acc: 0.9167 - val_loss: 0.9703 - val_acc: 0.7543\n",
            "Epoch 30/30\n",
            "274/274 [==============================] - 225s 819ms/step - loss: 0.2181 - acc: 0.9207 - val_loss: 0.9867 - val_acc: 0.7438\n"
          ]
        }
      ]
    },
    {
      "cell_type": "code",
      "source": [
        "vit_model.save('/content/drive/MyDrive/ieee-final-round/vit2.h5')"
      ],
      "metadata": {
        "id": "gRsf9EYlyqkH"
      },
      "execution_count": null,
      "outputs": []
    },
    {
      "cell_type": "code",
      "source": [
        "cleaned_path = '/content/drive/MyDrive/ieee-final-round/test_filtered'"
      ],
      "metadata": {
        "id": "xC3CaxpVy7fH"
      },
      "execution_count": null,
      "outputs": []
    },
    {
      "cell_type": "code",
      "source": [
        "loss = [1.5274\n",
        ",1.1794\n",
        ",1.0662\n",
        ",1.0200\n",
        ",0.9793\n",
        ",0.9289\n",
        ",0.9249\n",
        ",0.8863\n",
        ",0.8546\n",
        ",0.8463\n",
        ",0.8158\n",
        ",0.8063\n",
        ",0.7824]\n",
        "val_loss = [1.1066\n",
        ",0.9942\n",
        ",0.9517\n",
        ",0.8716\n",
        ",0.8570\n",
        ",0.8305\n",
        ",0.8191\n",
        ",0.7936\n",
        ",0.7704\n",
        ",0.7749\n",
        ",0.7596\n",
        ",0.7458\n",
        ",0.7649]"
      ],
      "metadata": {
        "id": "Q8garGPsbtRq"
      },
      "execution_count": null,
      "outputs": []
    },
    {
      "cell_type": "code",
      "source": [
        "epoch = np.arange(1,14)\n",
        "plt.figure(figsize=(15,7))\n",
        "plt.plot(epoch ,loss, 'r' ,  label = 'train_loss')\n",
        "plt.plot(epoch , val_loss, 'b' , label = 'Val_loss')\n",
        "plt.title('Training and validation Loss_Vit')\n",
        "plt.ylabel('Loss')\n",
        "plt.xlabel('Epoch')\n",
        "#plt.yticks(np.arange(0.6 , 1) )\n",
        "plt.legend();"
      ],
      "metadata": {
        "colab": {
          "base_uri": "https://localhost:8080/",
          "height": 458
        },
        "id": "wMEkHy_AbtUx",
        "outputId": "bdb468f1-9878-4de0-f143-812cf1e430eb"
      },
      "execution_count": null,
      "outputs": [
        {
          "output_type": "display_data",
          "data": {
            "text/plain": [
              "<Figure size 1080x504 with 1 Axes>"
            ],
            "image/png": "[encoded data removed]"
          },
          "metadata": {
            "needs_background": "light"
          }
        }
      ]
    },
    {
      "cell_type": "code",
      "source": [],
      "metadata": {
        "id": "-DfZQNhPbtXp"
      },
      "execution_count": null,
      "outputs": []
    },
    {
      "cell_type": "code",
      "source": [],
      "metadata": {
        "id": "eQ22vQwDbtbx"
      },
      "execution_count": null,
      "outputs": []
    },
    {
      "cell_type": "code",
      "source": [
        "images_name_filtered = sorted(os.listdir(cleaned_path))"
      ],
      "metadata": {
        "id": "A6rlAXrgy7hn"
      },
      "execution_count": null,
      "outputs": []
    },
    {
      "cell_type": "code",
      "source": [
        "for i in range (len(images_name_filtered)):\n",
        "  images_name_filtered[i] = images_name_filtered[i].replace('.jpg','')"
      ],
      "metadata": {
        "id": "Jy7dOV4Hy7j2"
      },
      "execution_count": null,
      "outputs": []
    },
    {
      "cell_type": "code",
      "source": [
        "images_name_filtered[0:10]"
      ],
      "metadata": {
        "id": "oSmLgXewy7l-",
        "colab": {
          "base_uri": "https://localhost:8080/"
        },
        "outputId": "6456a9a5-ae4b-4c5b-f245-4599a9dd793e"
      },
      "execution_count": null,
      "outputs": [
        {
          "output_type": "execute_result",
          "data": {
            "text/plain": [
              "['ZJ000003',\n",
              " 'ZJ000005',\n",
              " 'ZJ000011',\n",
              " 'ZJ000012',\n",
              " 'ZJ000017',\n",
              " 'ZJ000023',\n",
              " 'ZJ000024',\n",
              " 'ZJ000028',\n",
              " 'ZJ000032',\n",
              " 'ZJ000052']"
            ]
          },
          "metadata": {},
          "execution_count": 20
        }
      ]
    },
    {
      "cell_type": "code",
      "source": [
        "def test_normalize(image):\n",
        "    image = image/255.\n",
        "    return image"
      ],
      "metadata": {
        "id": "aJCiPen5y7oO"
      },
      "execution_count": null,
      "outputs": []
    },
    {
      "cell_type": "code",
      "source": [
        "test_directory = '/content/drive/MyDrive/ieee-final-round/test_filtered'"
      ],
      "metadata": {
        "id": "DAwWP5YOy7q3"
      },
      "execution_count": null,
      "outputs": []
    },
    {
      "cell_type": "code",
      "source": [
        "test_data = tf.keras.preprocessing.image_dataset_from_directory(\n",
        "    directory= test_directory,\n",
        "    labels=None,\n",
        "    label_mode=None,\n",
        "    class_names=None,\n",
        "    color_mode='rgb',\n",
        "    batch_size=32,\n",
        "    image_size=(256,256), # change this to 256\n",
        "    shuffle=False,\n",
        "    seed=42,\n",
        "    interpolation='bilinear',\n",
        "    follow_links=False,\n",
        ")"
      ],
      "metadata": {
        "id": "547_UOFxy7tZ",
        "colab": {
          "base_uri": "https://localhost:8080/"
        },
        "outputId": "bd3bf850-5417-4132-f9f8-4ba7b24ba806"
      },
      "execution_count": null,
      "outputs": [
        {
          "output_type": "stream",
          "name": "stdout",
          "text": [
            "Found 3759 files belonging to 1 classes.\n"
          ]
        }
      ]
    },
    {
      "cell_type": "code",
      "source": [
        "test_data = test_data.map(test_normalize)"
      ],
      "metadata": {
        "id": "zc5WoA0Ty7w2"
      },
      "execution_count": null,
      "outputs": []
    },
    {
      "cell_type": "code",
      "source": [
        "results = vit_model.predict(test_data)"
      ],
      "metadata": {
        "id": "PIGUaXukzRjY"
      },
      "execution_count": null,
      "outputs": []
    },
    {
      "cell_type": "code",
      "source": [
        "sub1 = pd.DataFrame(results,columns = ['antelope_duiker', 'bird', 'blank', 'civet_genet', 'hog', 'leopard','monkey_prosimian', 'rodent'] )"
      ],
      "metadata": {
        "id": "93b2D7jWzRlm"
      },
      "execution_count": null,
      "outputs": []
    },
    {
      "cell_type": "code",
      "source": [
        "sub1['id'] = images_name_filtered"
      ],
      "metadata": {
        "id": "Kmj9PIgkzRn3"
      },
      "execution_count": null,
      "outputs": []
    },
    {
      "cell_type": "code",
      "source": [
        "df = sub1[['id','antelope_duiker', 'bird', 'blank', 'civet_genet', 'hog', 'leopard','monkey_prosimian', 'rodent']]"
      ],
      "metadata": {
        "id": "hqlSmB1czRqg"
      },
      "execution_count": null,
      "outputs": []
    },
    {
      "cell_type": "code",
      "source": [
        "df.to_csv('/content/drive/MyDrive/ieee-final-round/vit_final.csv' , index = False)"
      ],
      "metadata": {
        "id": "6oMYW4jRzRt-"
      },
      "execution_count": null,
      "outputs": []
    },
    {
      "cell_type": "code",
      "source": [],
      "metadata": {
        "id": "nR55S4u5Ho6o"
      },
      "execution_count": null,
      "outputs": []
    }
  ]
}